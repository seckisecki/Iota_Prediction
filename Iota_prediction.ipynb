{
 "cells": [
  {
   "cell_type": "code",
   "execution_count": 17,
   "metadata": {},
   "outputs": [],
   "source": [
    "import numpy as np \n",
    "import keras.utils\n",
    "import pandas as pd \n",
    "from matplotlib import pyplot as plt\n",
    "\n",
    "from keras.models import Sequential\n",
    "from keras.layers import Dense\n",
    "from keras.layers import LSTM\n",
    "from keras.layers import Bidirectional, Dropout, Activation\n",
    "\n",
    "from sklearn.preprocessing import MinMaxScaler\n",
    "min_max_scaler = MinMaxScaler()"
   ]
  },
  {
   "cell_type": "code",
   "execution_count": 18,
   "metadata": {},
   "outputs": [],
   "source": [
    "csv_path = pd.read_csv('IOT-USD.csv')"
   ]
  },
  {
   "cell_type": "code",
   "execution_count": 19,
   "metadata": {},
   "outputs": [],
   "source": [
    "df = csv_path.sort_values('Date')"
   ]
  },
  {
   "cell_type": "code",
   "execution_count": 20,
   "metadata": {},
   "outputs": [
    {
     "data": {
      "text/html": [
       "<div>\n",
       "<style scoped>\n",
       "    .dataframe tbody tr th:only-of-type {\n",
       "        vertical-align: middle;\n",
       "    }\n",
       "\n",
       "    .dataframe tbody tr th {\n",
       "        vertical-align: top;\n",
       "    }\n",
       "\n",
       "    .dataframe thead th {\n",
       "        text-align: right;\n",
       "    }\n",
       "</style>\n",
       "<table border=\"1\" class=\"dataframe\">\n",
       "  <thead>\n",
       "    <tr style=\"text-align: right;\">\n",
       "      <th></th>\n",
       "      <th>Date</th>\n",
       "      <th>Open</th>\n",
       "      <th>High</th>\n",
       "      <th>Low</th>\n",
       "      <th>Close</th>\n",
       "      <th>Adj Close</th>\n",
       "      <th>Volume</th>\n",
       "    </tr>\n",
       "  </thead>\n",
       "  <tbody>\n",
       "    <tr>\n",
       "      <th>0</th>\n",
       "      <td>2018-07-28</td>\n",
       "      <td>1.0100</td>\n",
       "      <td>1.0300</td>\n",
       "      <td>0.9975</td>\n",
       "      <td>1.0300</td>\n",
       "      <td>1.0300</td>\n",
       "      <td>4564192</td>\n",
       "    </tr>\n",
       "    <tr>\n",
       "      <th>1</th>\n",
       "      <td>2018-07-29</td>\n",
       "      <td>1.0300</td>\n",
       "      <td>1.0400</td>\n",
       "      <td>1.0000</td>\n",
       "      <td>1.0100</td>\n",
       "      <td>1.0100</td>\n",
       "      <td>2826387</td>\n",
       "    </tr>\n",
       "    <tr>\n",
       "      <th>2</th>\n",
       "      <td>2018-07-30</td>\n",
       "      <td>1.0100</td>\n",
       "      <td>1.0200</td>\n",
       "      <td>0.9508</td>\n",
       "      <td>0.9751</td>\n",
       "      <td>0.9751</td>\n",
       "      <td>5709301</td>\n",
       "    </tr>\n",
       "    <tr>\n",
       "      <th>3</th>\n",
       "      <td>2018-07-31</td>\n",
       "      <td>0.9751</td>\n",
       "      <td>0.9867</td>\n",
       "      <td>0.9306</td>\n",
       "      <td>0.9479</td>\n",
       "      <td>0.9479</td>\n",
       "      <td>6150287</td>\n",
       "    </tr>\n",
       "    <tr>\n",
       "      <th>4</th>\n",
       "      <td>2018-08-01</td>\n",
       "      <td>0.9479</td>\n",
       "      <td>0.9503</td>\n",
       "      <td>0.9010</td>\n",
       "      <td>0.9266</td>\n",
       "      <td>0.9266</td>\n",
       "      <td>5458769</td>\n",
       "    </tr>\n",
       "    <tr>\n",
       "      <th>5</th>\n",
       "      <td>2018-08-02</td>\n",
       "      <td>0.9266</td>\n",
       "      <td>0.9373</td>\n",
       "      <td>0.8735</td>\n",
       "      <td>0.8850</td>\n",
       "      <td>0.8850</td>\n",
       "      <td>6119607</td>\n",
       "    </tr>\n",
       "    <tr>\n",
       "      <th>6</th>\n",
       "      <td>2018-08-03</td>\n",
       "      <td>0.8850</td>\n",
       "      <td>0.9676</td>\n",
       "      <td>0.7735</td>\n",
       "      <td>0.9600</td>\n",
       "      <td>0.9600</td>\n",
       "      <td>33280456</td>\n",
       "    </tr>\n",
       "    <tr>\n",
       "      <th>7</th>\n",
       "      <td>2018-08-04</td>\n",
       "      <td>0.9600</td>\n",
       "      <td>0.9789</td>\n",
       "      <td>0.8334</td>\n",
       "      <td>0.8490</td>\n",
       "      <td>0.8490</td>\n",
       "      <td>16076022</td>\n",
       "    </tr>\n",
       "    <tr>\n",
       "      <th>8</th>\n",
       "      <td>2018-08-05</td>\n",
       "      <td>0.8490</td>\n",
       "      <td>1.0300</td>\n",
       "      <td>0.8456</td>\n",
       "      <td>0.9108</td>\n",
       "      <td>0.9108</td>\n",
       "      <td>21356157</td>\n",
       "    </tr>\n",
       "    <tr>\n",
       "      <th>9</th>\n",
       "      <td>2018-08-06</td>\n",
       "      <td>0.9108</td>\n",
       "      <td>0.9290</td>\n",
       "      <td>0.7501</td>\n",
       "      <td>0.7809</td>\n",
       "      <td>0.7809</td>\n",
       "      <td>25633216</td>\n",
       "    </tr>\n",
       "  </tbody>\n",
       "</table>\n",
       "</div>"
      ],
      "text/plain": [
       "         Date    Open    High     Low   Close  Adj Close    Volume\n",
       "0  2018-07-28  1.0100  1.0300  0.9975  1.0300     1.0300   4564192\n",
       "1  2018-07-29  1.0300  1.0400  1.0000  1.0100     1.0100   2826387\n",
       "2  2018-07-30  1.0100  1.0200  0.9508  0.9751     0.9751   5709301\n",
       "3  2018-07-31  0.9751  0.9867  0.9306  0.9479     0.9479   6150287\n",
       "4  2018-08-01  0.9479  0.9503  0.9010  0.9266     0.9266   5458769\n",
       "5  2018-08-02  0.9266  0.9373  0.8735  0.8850     0.8850   6119607\n",
       "6  2018-08-03  0.8850  0.9676  0.7735  0.9600     0.9600  33280456\n",
       "7  2018-08-04  0.9600  0.9789  0.8334  0.8490     0.8490  16076022\n",
       "8  2018-08-05  0.8490  1.0300  0.8456  0.9108     0.9108  21356157\n",
       "9  2018-08-06  0.9108  0.9290  0.7501  0.7809     0.7809  25633216"
      ]
     },
     "execution_count": 20,
     "metadata": {},
     "output_type": "execute_result"
    }
   ],
   "source": [
    "df.head(10)"
   ]
  },
  {
   "cell_type": "code",
   "execution_count": 21,
   "metadata": {},
   "outputs": [
    {
     "data": {
      "text/plain": [
       "(297, 7)"
      ]
     },
     "execution_count": 21,
     "metadata": {},
     "output_type": "execute_result"
    }
   ],
   "source": [
    "df.shape"
   ]
  },
  {
   "cell_type": "code",
   "execution_count": 22,
   "metadata": {
    "scrolled": true
   },
   "outputs": [
    {
     "data": {
      "text/plain": [
       "Text(0, 0.5, 'Close Price in USD ($)')"
      ]
     },
     "execution_count": 22,
     "metadata": {},
     "output_type": "execute_result"
    },
    {
     "data": {
      "image/png": "[encoded data removed]",
      "text/plain": [
       "<Figure size 432x288 with 1 Axes>"
      ]
     },
     "metadata": {
      "needs_background": "light"
     },
     "output_type": "display_data"
    }
   ],
   "source": [
    "ax = df.plot(x='Date', y='Close');\n",
    "ax.set_xlabel(\"Date\")\n",
    "ax.set_ylabel(\"Close Price in USD ($)\")"
   ]
  },
  {
   "cell_type": "code",
   "execution_count": 23,
   "metadata": {},
   "outputs": [
    {
     "data": {
      "text/plain": [
       "Text(0, 0.5, 'Close Price Euro (€)')"
      ]
     },
     "execution_count": 23,
     "metadata": {},
     "output_type": "execute_result"
    },
    {
     "data": {
      "image/png": "[encoded data removed]",
      "text/plain": [
       "<Figure size 432x288 with 1 Axes>"
      ]
     },
     "metadata": {
      "needs_background": "light"
     },
     "output_type": "display_data"
    }
   ],
   "source": [
    "df['Close']/=0.8841\n",
    "ax = df.plot(x='Date', y='Close');\n",
    "ax.set_xlabel(\"Date\")\n",
    "ax.set_ylabel(\"Close Price Euro (€)\")"
   ]
  },
  {
   "cell_type": "code",
   "execution_count": 24,
   "metadata": {},
   "outputs": [],
   "source": [
    "scaler = MinMaxScaler()\n",
    "\n",
    "close_price = df.Close.values.reshape(-1, 1)\n",
    "\n",
    "scaled_close = scaler.fit_transform(close_price)"
   ]
  },
  {
   "cell_type": "code",
   "execution_count": 25,
   "metadata": {},
   "outputs": [],
   "source": [
    "scaled_close = scaled_close.reshape(-1, 1)"
   ]
  },
  {
   "cell_type": "code",
   "execution_count": 26,
   "metadata": {},
   "outputs": [
    {
     "data": {
      "text/plain": [
       "False"
      ]
     },
     "execution_count": 26,
     "metadata": {},
     "output_type": "execute_result"
    }
   ],
   "source": [
    "np.isnan(scaled_close).any()"
   ]
  },
  {
   "cell_type": "code",
   "execution_count": 27,
   "metadata": {},
   "outputs": [],
   "source": [
    "SEQ_LEN = 100\n",
    "\n",
    "def to_sequences(data, seq_len):\n",
    "    d = []\n",
    "\n",
    "    for index in range(len(data) - seq_len):\n",
    "        d.append(data[index: index + seq_len])\n",
    "\n",
    "    return np.array(d)\n",
    "\n",
    "def preprocess(data_raw, seq_len, train_split):\n",
    "\n",
    "    data = to_sequences(data_raw, seq_len)\n",
    "\n",
    "    num_train = int(train_split * data.shape[0])\n",
    "\n",
    "    X_train = data[:num_train, :-1, :]\n",
    "    y_train = data[:num_train, -1, :]\n",
    "\n",
    "    X_test = data[num_train:, :-1, :]\n",
    "    y_test = data[num_train:, -1, :]\n",
    "\n",
    "    return X_train, y_train, X_test, y_test\n",
    "\n",
    "\n",
    "X_train, y_train, X_test, y_test = preprocess(scaled_close, SEQ_LEN, train_split = 0.95)"
   ]
  },
  {
   "cell_type": "code",
   "execution_count": 28,
   "metadata": {},
   "outputs": [
    {
     "data": {
      "text/plain": [
       "(187, 99, 1)"
      ]
     },
     "execution_count": 28,
     "metadata": {},
     "output_type": "execute_result"
    }
   ],
   "source": [
    "X_train.shape"
   ]
  },
  {
   "cell_type": "code",
   "execution_count": 29,
   "metadata": {},
   "outputs": [
    {
     "data": {
      "text/plain": [
       "(10, 99, 1)"
      ]
     },
     "execution_count": 29,
     "metadata": {},
     "output_type": "execute_result"
    }
   ],
   "source": [
    "X_test.shape"
   ]
  },
  {
   "cell_type": "code",
   "execution_count": 30,
   "metadata": {},
   "outputs": [
    {
     "name": "stderr",
     "output_type": "stream",
     "text": [
      "WARNING: Logging before flag parsing goes to stderr.\n",
      "W0811 21:49:38.785018 18964 deprecation_wrapper.py:119] From c:\\users\\lenovo\\appdata\\local\\programs\\python\\python36\\lib\\site-packages\\keras\\backend\\tensorflow_backend.py:74: The name tf.get_default_graph is deprecated. Please use tf.compat.v1.get_default_graph instead.\n",
      "\n",
      "W0811 21:49:38.805002 18964 deprecation_wrapper.py:119] From c:\\users\\lenovo\\appdata\\local\\programs\\python\\python36\\lib\\site-packages\\keras\\backend\\tensorflow_backend.py:517: The name tf.placeholder is deprecated. Please use tf.compat.v1.placeholder instead.\n",
      "\n",
      "W0811 21:49:38.808001 18964 deprecation_wrapper.py:119] From c:\\users\\lenovo\\appdata\\local\\programs\\python\\python36\\lib\\site-packages\\keras\\backend\\tensorflow_backend.py:4138: The name tf.random_uniform is deprecated. Please use tf.random.uniform instead.\n",
      "\n",
      "W0811 21:49:39.258018 18964 deprecation_wrapper.py:119] From c:\\users\\lenovo\\appdata\\local\\programs\\python\\python36\\lib\\site-packages\\keras\\backend\\tensorflow_backend.py:133: The name tf.placeholder_with_default is deprecated. Please use tf.compat.v1.placeholder_with_default instead.\n",
      "\n",
      "W0811 21:49:39.264005 18964 deprecation.py:506] From c:\\users\\lenovo\\appdata\\local\\programs\\python\\python36\\lib\\site-packages\\keras\\backend\\tensorflow_backend.py:3445: calling dropout (from tensorflow.python.ops.nn_ops) with keep_prob is deprecated and will be removed in a future version.\n",
      "Instructions for updating:\n",
      "Please use `rate` instead of `keep_prob`. Rate should be set to `rate = 1 - keep_prob`.\n"
     ]
    }
   ],
   "source": [
    "DROPOUT = 0.2\n",
    "WINDOW_SIZE = SEQ_LEN - 1\n",
    "\n",
    "model = keras.Sequential()\n",
    "\n",
    "model.add(Bidirectional(LSTM(WINDOW_SIZE, return_sequences=True),\n",
    "                        input_shape=(WINDOW_SIZE, X_train.shape[-1])))\n",
    "model.add(Dropout(rate=DROPOUT))\n",
    "\n",
    "model.add(Bidirectional(LSTM((WINDOW_SIZE * 2), return_sequences=True)))\n",
    "model.add(Dropout(rate=DROPOUT))\n",
    "\n",
    "model.add(Bidirectional(LSTM(WINDOW_SIZE, return_sequences=False)))\n",
    "\n",
    "model.add(Dense(units=1))\n",
    "\n",
    "model.add(Activation('linear'))"
   ]
  },
  {
   "cell_type": "code",
   "execution_count": 31,
   "metadata": {},
   "outputs": [
    {
     "name": "stderr",
     "output_type": "stream",
     "text": [
      "W0811 21:52:35.094340 18964 deprecation_wrapper.py:119] From c:\\users\\lenovo\\appdata\\local\\programs\\python\\python36\\lib\\site-packages\\keras\\optimizers.py:790: The name tf.train.Optimizer is deprecated. Please use tf.compat.v1.train.Optimizer instead.\n",
      "\n"
     ]
    }
   ],
   "source": [
    "model.compile(\n",
    "    loss='mean_squared_error', \n",
    "    optimizer='adam'\n",
    ")"
   ]
  },
  {
   "cell_type": "code",
   "execution_count": 32,
   "metadata": {},
   "outputs": [
    {
     "name": "stderr",
     "output_type": "stream",
     "text": [
      "W0811 21:52:45.964704 18964 deprecation.py:323] From c:\\users\\lenovo\\appdata\\local\\programs\\python\\python36\\lib\\site-packages\\tensorflow\\python\\ops\\math_grad.py:1250: add_dispatch_support.<locals>.wrapper (from tensorflow.python.ops.array_ops) is deprecated and will be removed in a future version.\n",
      "Instructions for updating:\n",
      "Use tf.where in 2.0, which has the same broadcast rule as np.where\n",
      "W0811 21:52:48.835699 18964 deprecation_wrapper.py:119] From c:\\users\\lenovo\\appdata\\local\\programs\\python\\python36\\lib\\site-packages\\keras\\backend\\tensorflow_backend.py:986: The name tf.assign_add is deprecated. Please use tf.compat.v1.assign_add instead.\n",
      "\n"
     ]
    },
    {
     "name": "stdout",
     "output_type": "stream",
     "text": [
      "Train on 168 samples, validate on 19 samples\n",
      "Epoch 1/50\n",
      "168/168 [==============================] - 10s 59ms/step - loss: 0.0122 - val_loss: 4.5813e-04\n",
      "Epoch 2/50\n",
      "168/168 [==============================] - 6s 34ms/step - loss: 0.0098 - val_loss: 0.0046\n",
      "Epoch 3/50\n",
      "168/168 [==============================] - 6s 35ms/step - loss: 0.0072 - val_loss: 0.0018\n",
      "Epoch 4/50\n",
      "168/168 [==============================] - 6s 36ms/step - loss: 0.0038 - val_loss: 6.0446e-04\n",
      "Epoch 5/50\n",
      "168/168 [==============================] - 6s 36ms/step - loss: 0.0044 - val_loss: 7.8639e-04\n",
      "Epoch 6/50\n",
      "168/168 [==============================] - 7s 42ms/step - loss: 0.0035 - val_loss: 4.2389e-04\n",
      "Epoch 7/50\n",
      "168/168 [==============================] - 8s 47ms/step - loss: 0.0028 - val_loss: 5.3277e-04\n",
      "Epoch 8/50\n",
      "168/168 [==============================] - 7s 42ms/step - loss: 0.0028 - val_loss: 4.2504e-04\n",
      "Epoch 9/50\n",
      "168/168 [==============================] - 7s 44ms/step - loss: 0.0023 - val_loss: 9.8898e-04\n",
      "Epoch 10/50\n",
      "168/168 [==============================] - 8s 46ms/step - loss: 0.0024 - val_loss: 6.8352e-04\n",
      "Epoch 11/50\n",
      "168/168 [==============================] - 7s 41ms/step - loss: 0.0018 - val_loss: 4.2928e-04\n",
      "Epoch 12/50\n",
      "168/168 [==============================] - 7s 40ms/step - loss: 0.0018 - val_loss: 4.6445e-04\n",
      "Epoch 13/50\n",
      "168/168 [==============================] - 8s 47ms/step - loss: 0.0016 - val_loss: 7.2611e-04\n",
      "Epoch 14/50\n",
      "168/168 [==============================] - 8s 46ms/step - loss: 0.0016 - val_loss: 5.3582e-04\n",
      "Epoch 15/50\n",
      "168/168 [==============================] - 8s 45ms/step - loss: 0.0013 - val_loss: 4.4774e-04\n",
      "Epoch 16/50\n",
      "168/168 [==============================] - 8s 47ms/step - loss: 0.0013 - val_loss: 5.2703e-04\n",
      "Epoch 17/50\n",
      "168/168 [==============================] - 8s 46ms/step - loss: 0.0012 - val_loss: 5.1350e-04\n",
      "Epoch 18/50\n",
      "168/168 [==============================] - 8s 47ms/step - loss: 0.0011 - val_loss: 4.6336e-04\n",
      "Epoch 19/50\n",
      "168/168 [==============================] - 8s 46ms/step - loss: 0.0011 - val_loss: 4.7241e-04\n",
      "Epoch 20/50\n",
      "168/168 [==============================] - 8s 46ms/step - loss: 0.0011 - val_loss: 4.8826e-04\n",
      "Epoch 21/50\n",
      "168/168 [==============================] - 9s 51ms/step - loss: 9.6748e-04 - val_loss: 5.7940e-04\n",
      "Epoch 22/50\n",
      "168/168 [==============================] - 8s 45ms/step - loss: 9.3651e-04 - val_loss: 4.9605e-04\n",
      "Epoch 23/50\n",
      "168/168 [==============================] - 8s 45ms/step - loss: 9.5345e-04 - val_loss: 5.5152e-04\n",
      "Epoch 24/50\n",
      "168/168 [==============================] - 7s 43ms/step - loss: 9.1272e-04 - val_loss: 4.8636e-04\n",
      "Epoch 25/50\n",
      "168/168 [==============================] - 7s 42ms/step - loss: 8.8213e-04 - val_loss: 4.7647e-04\n",
      "Epoch 26/50\n",
      "168/168 [==============================] - 7s 41ms/step - loss: 8.7128e-04 - val_loss: 4.7824e-04\n",
      "Epoch 27/50\n",
      "168/168 [==============================] - 8s 48ms/step - loss: 8.7945e-04 - val_loss: 4.8833e-04\n",
      "Epoch 28/50\n",
      "168/168 [==============================] - 7s 43ms/step - loss: 8.2696e-04 - val_loss: 4.6899e-04\n",
      "Epoch 29/50\n",
      "168/168 [==============================] - 7s 43ms/step - loss: 8.4864e-04 - val_loss: 4.9251e-04\n",
      "Epoch 30/50\n",
      "168/168 [==============================] - 7s 43ms/step - loss: 8.1554e-04 - val_loss: 4.6462e-04\n",
      "Epoch 31/50\n",
      "168/168 [==============================] - 7s 41ms/step - loss: 8.3542e-04 - val_loss: 4.8561e-04\n",
      "Epoch 32/50\n",
      "168/168 [==============================] - 7s 41ms/step - loss: 7.7985e-04 - val_loss: 4.6492e-04\n",
      "Epoch 33/50\n",
      "168/168 [==============================] - 7s 41ms/step - loss: 8.5054e-04 - val_loss: 4.9667e-04\n",
      "Epoch 34/50\n",
      "168/168 [==============================] - 7s 41ms/step - loss: 7.8955e-04 - val_loss: 4.6976e-04\n",
      "Epoch 35/50\n",
      "168/168 [==============================] - 7s 40ms/step - loss: 8.1803e-04 - val_loss: 5.4162e-04\n",
      "Epoch 36/50\n",
      "168/168 [==============================] - 7s 42ms/step - loss: 8.4704e-04 - val_loss: 4.9817e-04\n",
      "Epoch 37/50\n",
      "168/168 [==============================] - 7s 40ms/step - loss: 0.0010 - val_loss: 7.1462e-04\n",
      "Epoch 38/50\n",
      "168/168 [==============================] - 7s 42ms/step - loss: 0.0011 - val_loss: 5.4127e-04\n",
      "Epoch 39/50\n",
      "168/168 [==============================] - 7s 40ms/step - loss: 0.0014 - val_loss: 6.4768e-04\n",
      "Epoch 40/50\n",
      "168/168 [==============================] - 7s 40ms/step - loss: 9.8957e-04 - val_loss: 4.6846e-04\n",
      "Epoch 41/50\n",
      "168/168 [==============================] - 8s 46ms/step - loss: 7.2709e-04 - val_loss: 4.6767e-04\n",
      "Epoch 42/50\n",
      "168/168 [==============================] - 7s 43ms/step - loss: 8.0297e-04 - val_loss: 5.3641e-04\n",
      "Epoch 43/50\n",
      "168/168 [==============================] - 7s 42ms/step - loss: 8.1898e-04 - val_loss: 4.7373e-04\n",
      "Epoch 44/50\n",
      "168/168 [==============================] - 7s 42ms/step - loss: 7.5107e-04 - val_loss: 4.6710e-04\n",
      "Epoch 45/50\n",
      "168/168 [==============================] - 7s 42ms/step - loss: 7.1759e-04 - val_loss: 5.5233e-04\n",
      "Epoch 46/50\n",
      "168/168 [==============================] - 7s 40ms/step - loss: 7.4349e-04 - val_loss: 4.8596e-04\n",
      "Epoch 47/50\n",
      "168/168 [==============================] - 7s 41ms/step - loss: 6.7942e-04 - val_loss: 4.8772e-04\n",
      "Epoch 48/50\n",
      "168/168 [==============================] - 7s 42ms/step - loss: 6.8726e-04 - val_loss: 5.0717e-04\n",
      "Epoch 49/50\n",
      "168/168 [==============================] - 7s 41ms/step - loss: 6.8383e-04 - val_loss: 4.7845e-04\n",
      "Epoch 50/50\n",
      "168/168 [==============================] - 7s 41ms/step - loss: 6.4121e-04 - val_loss: 4.8881e-04\n"
     ]
    }
   ],
   "source": [
    "BATCH_SIZE = 64\n",
    "\n",
    "history = model.fit(\n",
    "    X_train, \n",
    "    y_train, \n",
    "    epochs=50, \n",
    "    batch_size=BATCH_SIZE, \n",
    "    shuffle=False,\n",
    "    validation_split=0.1\n",
    ")"
   ]
  },
  {
   "cell_type": "code",
   "execution_count": 33,
   "metadata": {},
   "outputs": [
    {
     "name": "stdout",
     "output_type": "stream",
     "text": [
      "\r",
      "10/10 [==============================] - 0s 14ms/step\n"
     ]
    },
    {
     "data": {
      "text/plain": [
       "0.003674402367323637"
      ]
     },
     "execution_count": 33,
     "metadata": {},
     "output_type": "execute_result"
    }
   ],
   "source": [
    "model.evaluate(X_test, y_test)"
   ]
  },
  {
   "cell_type": "code",
   "execution_count": 34,
   "metadata": {},
   "outputs": [
    {
     "data": {
      "image/png": "[encoded data removed]",
      "text/plain": [
       "<Figure size 432x288 with 1 Axes>"
      ]
     },
     "metadata": {
      "needs_background": "light"
     },
     "output_type": "display_data"
    }
   ],
   "source": [
    "plt.plot(history.history['loss'])\n",
    "plt.plot(history.history['val_loss'])\n",
    "plt.title('model loss')\n",
    "plt.ylabel('loss')\n",
    "plt.xlabel('epoch')\n",
    "plt.legend(['train', 'test'], loc='upper left')\n",
    "plt.show()"
   ]
  },
  {
   "cell_type": "code",
   "execution_count": 35,
   "metadata": {},
   "outputs": [
    {
     "data": {
      "image/png": "[encoded data removed]",
      "text/plain": [
       "<Figure size 432x288 with 1 Axes>"
      ]
     },
     "metadata": {
      "needs_background": "light"
     },
     "output_type": "display_data"
    }
   ],
   "source": [
    "y_hat = model.predict(X_test)\n",
    "\n",
    "y_test_inverse = scaler.inverse_transform(y_test)\n",
    "y_hat_inverse = scaler.inverse_transform(y_hat)\n",
    " \n",
    "plt.plot(y_test_inverse, label=\"Actual Price\", color='blue')\n",
    "plt.plot(y_hat_inverse, label=\"Predicted Price\", color='green')\n",
    " \n",
    "plt.title('IOTA Price Prediction in €')\n",
    "plt.xlabel('Time [days]')\n",
    "plt.ylabel('Price')\n",
    "plt.legend(loc='best')\n",
    " \n",
    "plt.show();"
   ]
  },
  {
   "cell_type": "code",
   "execution_count": null,
   "metadata": {},
   "outputs": [],
   "source": []
  }
 ],
 "metadata": {
  "kernelspec": {
   "display_name": "Python 3",
   "language": "python",
   "name": "python3"
  },
  "language_info": {
   "codemirror_mode": {
    "name": "ipython",
    "version": 3
   },
   "file_extension": ".py",
   "mimetype": "text/x-python",
   "name": "python",
   "nbconvert_exporter": "python",
   "pygments_lexer": "ipython3",
   "version": "3.6.8"
  }
 },
 "nbformat": 4,
 "nbformat_minor": 2
}
